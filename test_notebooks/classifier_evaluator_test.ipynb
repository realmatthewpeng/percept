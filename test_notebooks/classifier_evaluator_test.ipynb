{
 "cells": [
  {
   "cell_type": "code",
   "execution_count": 47,
   "metadata": {},
   "outputs": [
    {
     "name": "stdout",
     "output_type": "stream",
     "text": [
      "Epoch 1/10\n",
      "1875/1875 - 48s - 26ms/step - accuracy: 0.8238 - loss: 0.4813\n",
      "Epoch 2/10\n",
      "1875/1875 - 51s - 27ms/step - accuracy: 0.8839 - loss: 0.3147\n",
      "Epoch 3/10\n",
      "1875/1875 - 51s - 27ms/step - accuracy: 0.8997 - loss: 0.2711\n",
      "Epoch 4/10\n",
      "1875/1875 - 49s - 26ms/step - accuracy: 0.9083 - loss: 0.2443\n",
      "Epoch 5/10\n",
      "1875/1875 - 52s - 28ms/step - accuracy: 0.9169 - loss: 0.2220\n",
      "Epoch 6/10\n",
      "1875/1875 - 49s - 26ms/step - accuracy: 0.9234 - loss: 0.2051\n",
      "Epoch 7/10\n",
      "1875/1875 - 53s - 28ms/step - accuracy: 0.9275 - loss: 0.1907\n",
      "Epoch 8/10\n",
      "1875/1875 - 50s - 26ms/step - accuracy: 0.9330 - loss: 0.1776\n",
      "Epoch 9/10\n",
      "1875/1875 - 52s - 28ms/step - accuracy: 0.9384 - loss: 0.1642\n",
      "Epoch 10/10\n",
      "1875/1875 - 50s - 27ms/step - accuracy: 0.9429 - loss: 0.1504\n"
     ]
    },
    {
     "name": "stderr",
     "output_type": "stream",
     "text": [
      "WARNING:absl:You are saving your model as an HDF5 file via `model.save()` or `keras.saving.save_model(model)`. This file format is considered legacy. We recommend using instead the native Keras format, e.g. `model.save('my_model.keras')` or `keras.saving.save_model(model, 'my_model.keras')`. \n"
     ]
    }
   ],
   "source": [
    "# https://machinelearningmastery.com/how-to-develop-a-convolutional-neural-network-from-scratch-for-mnist-handwritten-digit-classification/\n",
    "\n",
    "# save the final model to file\n",
    "from tensorflow.keras.utils import to_categorical\n",
    "from tensorflow.keras.models import Sequential\n",
    "from tensorflow.keras.layers import Conv2D\n",
    "from tensorflow.keras.layers import MaxPooling2D\n",
    "from tensorflow.keras.layers import Dense\n",
    "from tensorflow.keras.layers import Flatten\n",
    "from tensorflow.keras.optimizers import SGD\n",
    "import pandas as pd\n",
    "import io\n",
    "from PIL import Image\n",
    "import numpy as np\n",
    " \n",
    "\n",
    "# load train and test dataset\n",
    "def load_dataset():\n",
    "\t# load dataset\n",
    "\ttrain_df = pd.read_parquet(\"../datasets/FashionMNIST/train.parquet\")\n",
    "\ttest_df = pd.read_parquet(\"../datasets/FashionMNIST/test.parquet\")\n",
    "\n",
    "\ttrainX = []\n",
    "\ttrainY = []\n",
    "\n",
    "\tfor i in range(train_df.shape[0]):\n",
    "\t\timage = Image.open(io.BytesIO(train_df[\"image\"].iloc[i]['bytes']))\n",
    "\t\timg_array = np.array(image)\n",
    "\t\ttrainX.append(img_array)\n",
    "\t\ttrainY.append(train_df[\"label\"].iloc[i])\n",
    "\t\t\n",
    "\ttrainX = np.array(trainX)\n",
    "\ttrainY = np.array(trainY)\n",
    "\n",
    "\ttestX = []\n",
    "\ttestY = []\n",
    "\n",
    "\tfor i in range(test_df.shape[0]):\n",
    "\t\timage = Image.open(io.BytesIO(test_df[\"image\"].iloc[i]['bytes']))\n",
    "\t\timg_array = np.array(image)\n",
    "\t\ttestX.append(img_array)\n",
    "\t\ttestY.append(test_df[\"label\"].iloc[i])\n",
    "\n",
    "\ttestX = np.array(testX)\n",
    "\ttestY = np.array(testY)\n",
    "\n",
    "\t# (trainX, trainY), (testX, testY) = mnist.load_data()\n",
    "\t# reshape dataset to have a single channel\n",
    "\ttrainX = trainX.reshape((trainX.shape[0], 28, 28, 1))\n",
    "\ttestX = testX.reshape((testX.shape[0], 28, 28, 1))\n",
    "\t# one hot encode target values\n",
    "\ttrainY = to_categorical(trainY)\n",
    "\ttestY = to_categorical(testY)\n",
    "\treturn trainX, trainY, testX, testY\n",
    " \n",
    "# scale pixels\n",
    "def prep_pixels(train, test):\n",
    "\t# convert from integers to floats\n",
    "\ttrain_norm = train.astype('float32')\n",
    "\ttest_norm = test.astype('float32')\n",
    "\t# normalize to range 0-1\n",
    "\ttrain_norm = train_norm / 255.0\n",
    "\ttest_norm = test_norm / 255.0\n",
    "\t# return normalized images\n",
    "\treturn train_norm, test_norm\n",
    " \n",
    "# define cnn model\n",
    "def define_model():\n",
    "\tmodel = Sequential()\n",
    "\tmodel.add(Conv2D(32, (3, 3), activation='relu', kernel_initializer='he_uniform', input_shape=(28, 28, 1)))\n",
    "\tmodel.add(MaxPooling2D((2, 2)))\n",
    "\tmodel.add(Conv2D(64, (3, 3), activation='relu', kernel_initializer='he_uniform'))\n",
    "\tmodel.add(Conv2D(64, (3, 3), activation='relu', kernel_initializer='he_uniform'))\n",
    "\tmodel.add(MaxPooling2D((2, 2)))\n",
    "\tmodel.add(Flatten())\n",
    "\tmodel.add(Dense(100, activation='relu', kernel_initializer='he_uniform'))\n",
    "\tmodel.add(Dense(10, activation='softmax'))\n",
    "\t# compile model\n",
    "\topt = SGD(learning_rate=0.01, momentum=0.9)\n",
    "\tmodel.compile(optimizer=opt, loss='categorical_crossentropy', metrics=['accuracy'])\n",
    "\treturn model\n",
    " \n",
    "# run the test harness for evaluating a model\n",
    "def run_test_harness():\n",
    "\t# load dataset\n",
    "\ttrainX, trainY, testX, testY = load_dataset()\n",
    "\t# prepare pixel data\n",
    "\ttrainX, testX = prep_pixels(trainX, testX)\n",
    "\t# define model\n",
    "\tmodel = define_model()\n",
    "\t# fit model\n",
    "\tmodel.fit(trainX, trainY, epochs=10, batch_size=32, verbose=2)\n",
    "\t# save model\n",
    "\tmodel.save('final_model.h5')\n",
    " \n",
    "# entry point, run the test harness\n",
    "run_test_harness()"
   ]
  },
  {
   "cell_type": "code",
   "execution_count": 48,
   "metadata": {},
   "outputs": [
    {
     "name": "stderr",
     "output_type": "stream",
     "text": [
      "WARNING:absl:Compiled the loaded model, but the compiled metrics have yet to be built. `model.compile_metrics` will be empty until you train or evaluate the model.\n"
     ]
    },
    {
     "name": "stdout",
     "output_type": "stream",
     "text": [
      "\u001b[1m313/313\u001b[0m \u001b[32m━━━━━━━━━━━━━━━━━━━━\u001b[0m\u001b[37m\u001b[0m \u001b[1m5s\u001b[0m 16ms/step - accuracy: 0.8943 - loss: 0.3151\n",
      "> 89.830\n"
     ]
    }
   ],
   "source": [
    "\n",
    "# evaluate the deep model on the test dataset\n",
    "from tensorflow.keras.datasets import mnist\n",
    "from tensorflow.keras.models import load_model\n",
    "from tensorflow.keras.utils import to_categorical\n",
    " \n",
    "# load train and test dataset\n",
    "def load_dataset():\n",
    "\t# load dataset\n",
    "\n",
    "\ttrain_df = pd.read_parquet(\"../datasets/FashionMNIST/train.parquet\")\n",
    "\ttest_df = pd.read_parquet(\"../datasets/FashionMNIST/test.parquet\")\n",
    "\n",
    "\ttrainX = []\n",
    "\ttrainY = []\n",
    "\n",
    "\tfor i in range(train_df.shape[0]):\n",
    "\t\timage = Image.open(io.BytesIO(train_df[\"image\"].iloc[i]['bytes']))\n",
    "\t\timg_array = np.array(image)\n",
    "\t\ttrainX.append(img_array)\n",
    "\t\ttrainY.append(train_df[\"label\"].iloc[i])\n",
    "\t\t\n",
    "\ttrainX = np.array(trainX)\n",
    "\ttrainY = np.array(trainY)\n",
    "\n",
    "\ttestX = []\n",
    "\ttestY = []\n",
    "\n",
    "\tfor i in range(test_df.shape[0]):\n",
    "\t\timage = Image.open(io.BytesIO(test_df[\"image\"].iloc[i]['bytes']))\n",
    "\t\timg_array = np.array(image)\n",
    "\t\ttestX.append(img_array)\n",
    "\t\ttestY.append(test_df[\"label\"].iloc[i])\n",
    "\n",
    "\ttestX = np.array(testX)\n",
    "\ttestY = np.array(testY)\n",
    "\n",
    "\t# (trainX, trainY), (testX, testY) = mnist.load_data()\n",
    "\t# reshape dataset to have a single channel\n",
    "\ttrainX = trainX.reshape((trainX.shape[0], 28, 28, 1))\n",
    "\ttestX = testX.reshape((testX.shape[0], 28, 28, 1))\n",
    "\t# one hot encode target values\n",
    "\ttrainY = to_categorical(trainY)\n",
    "\ttestY = to_categorical(testY)\n",
    "\treturn trainX, trainY, testX, testY\n",
    " \n",
    "# scale pixels\n",
    "def prep_pixels(train, test):\n",
    "\t# convert from integers to floats\n",
    "\ttrain_norm = train.astype('float32')\n",
    "\ttest_norm = test.astype('float32')\n",
    "\t# normalize to range 0-1\n",
    "\ttrain_norm = train_norm / 255.0\n",
    "\ttest_norm = test_norm / 255.0\n",
    "\t# return normalized images\n",
    "\treturn train_norm, test_norm\n",
    " \n",
    "# run the test harness for evaluating a model\n",
    "def run_test_harness():\n",
    "\t# load dataset\n",
    "\ttrainX, trainY, testX, testY = load_dataset()\n",
    "\t# prepare pixel data\n",
    "\ttrainX, testX = prep_pixels(trainX, testX)\n",
    "\t# load model\n",
    "\tmodel = load_model('final_model.h5')\n",
    "\t# evaluate model on test dataset\n",
    "\t_, acc = model.evaluate(testX, testY, verbose=1)\n",
    "\tprint('> %.3f' % (acc * 100.0))\n",
    " \n",
    "# entry point, run the test harness\n",
    "run_test_harness()"
   ]
  },
  {
   "cell_type": "code",
   "execution_count": 8,
   "metadata": {},
   "outputs": [
    {
     "name": "stderr",
     "output_type": "stream",
     "text": [
      "WARNING:absl:Compiled the loaded model, but the compiled metrics have yet to be built. `model.compile_metrics` will be empty until you train or evaluate the model.\n"
     ]
    },
    {
     "name": "stdout",
     "output_type": "stream",
     "text": [
      "\u001b[1m1/1\u001b[0m \u001b[32m━━━━━━━━━━━━━━━━━━━━\u001b[0m\u001b[37m\u001b[0m \u001b[1m0s\u001b[0m 129ms/step\n",
      "6\n"
     ]
    }
   ],
   "source": [
    "# make a prediction for a new image.\n",
    "from numpy import argmax\n",
    "from keras.models import load_model\n",
    "from PIL import Image\n",
    "import pandas as pd\n",
    "import io\n",
    "import numpy as np\n",
    " \n",
    "# load an image and predict the class\n",
    "def run_example():\n",
    "    test = pd.read_parquet(\"datasets/MNIST/test.parquet\")\n",
    "    image = Image.open(io.BytesIO(test[\"image\"].iloc[100]['bytes']))\n",
    "    img = np.array(image)\n",
    "    img = img.reshape(1, 28, 28, 1)\n",
    "\n",
    "    # load model\n",
    "    model = load_model('final_model.h5')\n",
    "    # predict the class\n",
    "    predict_value = model.predict(img)\n",
    "    digit = argmax(predict_value)\n",
    "    print(digit)\n",
    " \n",
    "# entry point, run the example\n",
    "run_example()"
   ]
  },
  {
   "cell_type": "code",
   "execution_count": 26,
   "metadata": {},
   "outputs": [
    {
     "data": {
      "text/plain": [
       "<matplotlib.image.AxesImage at 0x18cd1adb0>"
      ]
     },
     "execution_count": 26,
     "metadata": {},
     "output_type": "execute_result"
    },
    {
     "data": {
      "image/png": "[encoded data removed]",
      "text/plain": [
       "<Figure size 640x480 with 1 Axes>"
      ]
     },
     "metadata": {},
     "output_type": "display_data"
    }
   ],
   "source": [
    "from PIL import Image\n",
    "import matplotlib.pyplot as plt\n",
    "import pandas as pd\n",
    "import io\n",
    "\n",
    "%matplotlib inline\n",
    "test = pd.read_parquet(\"../datasets/MNIST/test.parquet\")\n",
    "image = Image.open(io.BytesIO(test[\"image\"].iloc[18]['bytes']))\n",
    "plt.imshow(image)"
   ]
  },
  {
   "cell_type": "code",
   "execution_count": 49,
   "metadata": {},
   "outputs": [
    {
     "name": "stderr",
     "output_type": "stream",
     "text": [
      "WARNING:absl:Compiled the loaded model, but the compiled metrics have yet to be built. `model.compile_metrics` will be empty until you train or evaluate the model.\n"
     ]
    },
    {
     "name": "stdout",
     "output_type": "stream",
     "text": [
      "\u001b[1m313/313\u001b[0m \u001b[32m━━━━━━━━━━━━━━━━━━━━\u001b[0m\u001b[37m\u001b[0m \u001b[1m2s\u001b[0m 7ms/step\n"
     ]
    }
   ],
   "source": [
    "from keras.models import load_model\n",
    "from sklearn.metrics import confusion_matrix\n",
    "\n",
    "import numpy as np\n",
    "\n",
    "model = load_model('../Out/prima75scoreboard5/final_model.h5')\n",
    "X = np.load('../Out/prima75scoreboard5/testdata.npz')\n",
    "Y = np.load('../Out/prima75scoreboard5/testlabels.npz')\n",
    "testX = X['data']\n",
    "testY = Y['data']\n",
    "# reshape dataset to have a single channel\n",
    "testX = testX.reshape((testX.shape[0], 28, 28, 1))\n",
    "\n",
    "y_pred = model.predict(testX)\n",
    "y_pred_classes = np.argmax(y_pred, axis=1)\n",
    "\n",
    "conf_matrix = confusion_matrix(testY, y_pred_classes)"
   ]
  },
  {
   "cell_type": "code",
   "execution_count": 50,
   "metadata": {},
   "outputs": [
    {
     "data": {
      "image/png": "[encoded data removed]",
      "text/plain": [
       "<Figure size 1000x700 with 2 Axes>"
      ]
     },
     "metadata": {},
     "output_type": "display_data"
    }
   ],
   "source": [
    "import seaborn as sns\n",
    "import matplotlib.pyplot as plt\n",
    "\n",
    "# Plot the confusion matrix\n",
    "plt.figure(figsize=(10, 7))\n",
    "sns.heatmap(conf_matrix, annot=True, fmt='d', cmap='Blues')\n",
    "plt.xlabel('Predicted')\n",
    "plt.ylabel('True')\n",
    "plt.title('Confusion Matrix')\n",
    "plt.show()"
   ]
  },
  {
   "cell_type": "code",
   "execution_count": 31,
   "metadata": {},
   "outputs": [
    {
     "name": "stdout",
     "output_type": "stream",
     "text": [
      "[  18  115  247  321  340  445  449  582  646  659  684  740  774  900\n",
      "  947  965 1014 1039 1112 1181 1226 1242 1247 1260 1319 1527 1549 1678\n",
      " 1709 1721 1880 1901 1982 2035 2070 2098 2130 2135 2182 2266 2293 2387\n",
      " 2414 2426 2447 2454 2462 2488 2648 2654 2743 2770 2915 2921 2927 2939\n",
      " 2953 3060 3062 3073 3422 3520 3558 3756 3762 3767 3943 3985 4163 4176\n",
      " 4224 4536 4571 4639 4740 4761 4807 4823 5265 5457 5654 5937 5955 5973\n",
      " 6042 6065 6560 6571 6576 6597 7574 7928 8246 8408 8527 9009 9024 9540\n",
      " 9587 9664 9679 9729 9770 9792 9839 9904]\n"
     ]
    }
   ],
   "source": [
    "# Step 1: Create a boolean mask for mispredictions\n",
    "mispredictions_mask = testY != y_pred_classes\n",
    "\n",
    "# Step 2: Get the indices of mispredictions\n",
    "misprediction_indices = np.where(mispredictions_mask)[0]\n",
    "\n",
    "# Print the results\n",
    "print(misprediction_indices)"
   ]
  },
  {
   "cell_type": "code",
   "execution_count": 32,
   "metadata": {},
   "outputs": [
    {
     "data": {
      "text/plain": [
       "<matplotlib.image.AxesImage at 0x18db56b10>"
      ]
     },
     "execution_count": 32,
     "metadata": {},
     "output_type": "execute_result"
    },
    {
     "data": {
      "image/png": "[encoded data removed]",
      "text/plain": [
       "<Figure size 640x480 with 1 Axes>"
      ]
     },
     "metadata": {},
     "output_type": "display_data"
    }
   ],
   "source": [
    "plt.imshow(testX[18], cmap='gray')"
   ]
  }
 ],
 "metadata": {
  "kernelspec": {
   "display_name": "venv",
   "language": "python",
   "name": "python3"
  },
  "language_info": {
   "codemirror_mode": {
    "name": "ipython",
    "version": 3
   },
   "file_extension": ".py",
   "mimetype": "text/x-python",
   "name": "python",
   "nbconvert_exporter": "python",
   "pygments_lexer": "ipython3",
   "version": "3.12.9"
  }
 },
 "nbformat": 4,
 "nbformat_minor": 2
}
