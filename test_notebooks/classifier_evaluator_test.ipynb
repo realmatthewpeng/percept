{
 "cells": [
  {
   "cell_type": "code",
   "execution_count": 47,
   "metadata": {},
   "outputs": [
    {
     "name": "stdout",
     "output_type": "stream",
     "text": [
      "Epoch 1/10\n",
      "1875/1875 - 48s - 26ms/step - accuracy: 0.8238 - loss: 0.4813\n",
      "Epoch 2/10\n",
      "1875/1875 - 51s - 27ms/step - accuracy: 0.8839 - loss: 0.3147\n",
      "Epoch 3/10\n",
      "1875/1875 - 51s - 27ms/step - accuracy: 0.8997 - loss: 0.2711\n",
      "Epoch 4/10\n",
      "1875/1875 - 49s - 26ms/step - accuracy: 0.9083 - loss: 0.2443\n",
      "Epoch 5/10\n",
      "1875/1875 - 52s - 28ms/step - accuracy: 0.9169 - loss: 0.2220\n",
      "Epoch 6/10\n",
      "1875/1875 - 49s - 26ms/step - accuracy: 0.9234 - loss: 0.2051\n",
      "Epoch 7/10\n",
      "1875/1875 - 53s - 28ms/step - accuracy: 0.9275 - loss: 0.1907\n",
      "Epoch 8/10\n",
      "1875/1875 - 50s - 26ms/step - accuracy: 0.9330 - loss: 0.1776\n",
      "Epoch 9/10\n",
      "1875/1875 - 52s - 28ms/step - accuracy: 0.9384 - loss: 0.1642\n",
      "Epoch 10/10\n",
      "1875/1875 - 50s - 27ms/step - accuracy: 0.9429 - loss: 0.1504\n"
     ]
    },
    {
     "name": "stderr",
     "output_type": "stream",
     "text": [
      "WARNING:absl:You are saving your model as an HDF5 file via `model.save()` or `keras.saving.save_model(model)`. This file format is considered legacy. We recommend using instead the native Keras format, e.g. `model.save('my_model.keras')` or `keras.saving.save_model(model, 'my_model.keras')`. \n"
     ]
    }
   ],
   "source": [
    "# https://machinelearningmastery.com/how-to-develop-a-convolutional-neural-network-from-scratch-for-mnist-handwritten-digit-classification/\n",
    "\n",
    "# save the final model to file\n",
    "from tensorflow.keras.utils import to_categorical\n",
    "from tensorflow.keras.models import Sequential\n",
    "from tensorflow.keras.layers import Conv2D\n",
    "from tensorflow.keras.layers import MaxPooling2D\n",
    "from tensorflow.keras.layers import Dense\n",
    "from tensorflow.keras.layers import Flatten\n",
    "from tensorflow.keras.optimizers import SGD\n",
    "import pandas as pd\n",
    "import io\n",
    "from PIL import Image\n",
    "import numpy as np\n",
    " \n",
    "\n",
    "# load train and test dataset\n",
    "def load_dataset():\n",
    "\t# load dataset\n",
    "\ttrain_df = pd.read_parquet(\"../datasets/FashionMNIST/train.parquet\")\n",
    "\ttest_df = pd.read_parquet(\"../datasets/FashionMNIST/test.parquet\")\n",
    "\n",
    "\ttrainX = []\n",
    "\ttrainY = []\n",
    "\n",
    "\tfor i in range(train_df.shape[0]):\n",
    "\t\timage = Image.open(io.BytesIO(train_df[\"image\"].iloc[i]['bytes']))\n",
    "\t\timg_array = np.array(image)\n",
    "\t\ttrainX.append(img_array)\n",
    "\t\ttrainY.append(train_df[\"label\"].iloc[i])\n",
    "\t\t\n",
    "\ttrainX = np.array(trainX)\n",
    "\ttrainY = np.array(trainY)\n",
    "\n",
    "\ttestX = []\n",
    "\ttestY = []\n",
    "\n",
    "\tfor i in range(test_df.shape[0]):\n",
    "\t\timage = Image.open(io.BytesIO(test_df[\"image\"].iloc[i]['bytes']))\n",
    "\t\timg_array = np.array(image)\n",
    "\t\ttestX.append(img_array)\n",
    "\t\ttestY.append(test_df[\"label\"].iloc[i])\n",
    "\n",
    "\ttestX = np.array(testX)\n",
    "\ttestY = np.array(testY)\n",
    "\n",
    "\t# (trainX, trainY), (testX, testY) = mnist.load_data()\n",
    "\t# reshape dataset to have a single channel\n",
    "\ttrainX = trainX.reshape((trainX.shape[0], 28, 28, 1))\n",
    "\ttestX = testX.reshape((testX.shape[0], 28, 28, 1))\n",
    "\t# one hot encode target values\n",
    "\ttrainY = to_categorical(trainY)\n",
    "\ttestY = to_categorical(testY)\n",
    "\treturn trainX, trainY, testX, testY\n",
    " \n",
    "# scale pixels\n",
    "def prep_pixels(train, test):\n",
    "\t# convert from integers to floats\n",
    "\ttrain_norm = train.astype('float32')\n",
    "\ttest_norm = test.astype('float32')\n",
    "\t# normalize to range 0-1\n",
    "\ttrain_norm = train_norm / 255.0\n",
    "\ttest_norm = test_norm / 255.0\n",
    "\t# return normalized images\n",
    "\treturn train_norm, test_norm\n",
    " \n",
    "# define cnn model\n",
    "def define_model():\n",
    "\tmodel = Sequential()\n",
    "\tmodel.add(Conv2D(32, (3, 3), activation='relu', kernel_initializer='he_uniform', input_shape=(28, 28, 1)))\n",
    "\tmodel.add(MaxPooling2D((2, 2)))\n",
    "\tmodel.add(Conv2D(64, (3, 3), activation='relu', kernel_initializer='he_uniform'))\n",
    "\tmodel.add(Conv2D(64, (3, 3), activation='relu', kernel_initializer='he_uniform'))\n",
    "\tmodel.add(MaxPooling2D((2, 2)))\n",
    "\tmodel.add(Flatten())\n",
    "\tmodel.add(Dense(100, activation='relu', kernel_initializer='he_uniform'))\n",
    "\tmodel.add(Dense(10, activation='softmax'))\n",
    "\t# compile model\n",
    "\topt = SGD(learning_rate=0.01, momentum=0.9)\n",
    "\tmodel.compile(optimizer=opt, loss='categorical_crossentropy', metrics=['accuracy'])\n",
    "\treturn model\n",
    " \n",
    "# run the test harness for evaluating a model\n",
    "def run_test_harness():\n",
    "\t# load dataset\n",
    "\ttrainX, trainY, testX, testY = load_dataset()\n",
    "\t# prepare pixel data\n",
    "\ttrainX, testX = prep_pixels(trainX, testX)\n",
    "\t# define model\n",
    "\tmodel = define_model()\n",
    "\t# fit model\n",
    "\tmodel.fit(trainX, trainY, epochs=10, batch_size=32, verbose=2)\n",
    "\t# save model\n",
    "\tmodel.save('final_model.h5')\n",
    " \n",
    "# entry point, run the test harness\n",
    "run_test_harness()"
   ]
  },
  {
   "cell_type": "code",
   "execution_count": 48,
   "metadata": {},
   "outputs": [
    {
     "name": "stderr",
     "output_type": "stream",
     "text": [
      "WARNING:absl:Compiled the loaded model, but the compiled metrics have yet to be built. `model.compile_metrics` will be empty until you train or evaluate the model.\n"
     ]
    },
    {
     "name": "stdout",
     "output_type": "stream",
     "text": [
      "\u001b[1m313/313\u001b[0m \u001b[32m━━━━━━━━━━━━━━━━━━━━\u001b[0m\u001b[37m\u001b[0m \u001b[1m5s\u001b[0m 16ms/step - accuracy: 0.8943 - loss: 0.3151\n",
      "> 89.830\n"
     ]
    }
   ],
   "source": [
    "\n",
    "# evaluate the deep model on the test dataset\n",
    "from tensorflow.keras.datasets import mnist\n",
    "from tensorflow.keras.models import load_model\n",
    "from tensorflow.keras.utils import to_categorical\n",
    " \n",
    "# load train and test dataset\n",
    "def load_dataset():\n",
    "\t# load dataset\n",
    "\n",
    "\ttrain_df = pd.read_parquet(\"../datasets/FashionMNIST/train.parquet\")\n",
    "\ttest_df = pd.read_parquet(\"../datasets/FashionMNIST/test.parquet\")\n",
    "\n",
    "\ttrainX = []\n",
    "\ttrainY = []\n",
    "\n",
    "\tfor i in range(train_df.shape[0]):\n",
    "\t\timage = Image.open(io.BytesIO(train_df[\"image\"].iloc[i]['bytes']))\n",
    "\t\timg_array = np.array(image)\n",
    "\t\ttrainX.append(img_array)\n",
    "\t\ttrainY.append(train_df[\"label\"].iloc[i])\n",
    "\t\t\n",
    "\ttrainX = np.array(trainX)\n",
    "\ttrainY = np.array(trainY)\n",
    "\n",
    "\ttestX = []\n",
    "\ttestY = []\n",
    "\n",
    "\tfor i in range(test_df.shape[0]):\n",
    "\t\timage = Image.open(io.BytesIO(test_df[\"image\"].iloc[i]['bytes']))\n",
    "\t\timg_array = np.array(image)\n",
    "\t\ttestX.append(img_array)\n",
    "\t\ttestY.append(test_df[\"label\"].iloc[i])\n",
    "\n",
    "\ttestX = np.array(testX)\n",
    "\ttestY = np.array(testY)\n",
    "\n",
    "\t# (trainX, trainY), (testX, testY) = mnist.load_data()\n",
    "\t# reshape dataset to have a single channel\n",
    "\ttrainX = trainX.reshape((trainX.shape[0], 28, 28, 1))\n",
    "\ttestX = testX.reshape((testX.shape[0], 28, 28, 1))\n",
    "\t# one hot encode target values\n",
    "\ttrainY = to_categorical(trainY)\n",
    "\ttestY = to_categorical(testY)\n",
    "\treturn trainX, trainY, testX, testY\n",
    " \n",
    "# scale pixels\n",
    "def prep_pixels(train, test):\n",
    "\t# convert from integers to floats\n",
    "\ttrain_norm = train.astype('float32')\n",
    "\ttest_norm = test.astype('float32')\n",
    "\t# normalize to range 0-1\n",
    "\ttrain_norm = train_norm / 255.0\n",
    "\ttest_norm = test_norm / 255.0\n",
    "\t# return normalized images\n",
    "\treturn train_norm, test_norm\n",
    " \n",
    "# run the test harness for evaluating a model\n",
    "def run_test_harness():\n",
    "\t# load dataset\n",
    "\ttrainX, trainY, testX, testY = load_dataset()\n",
    "\t# prepare pixel data\n",
    "\ttrainX, testX = prep_pixels(trainX, testX)\n",
    "\t# load model\n",
    "\tmodel = load_model('final_model.h5')\n",
    "\t# evaluate model on test dataset\n",
    "\t_, acc = model.evaluate(testX, testY, verbose=1)\n",
    "\tprint('> %.3f' % (acc * 100.0))\n",
    " \n",
    "# entry point, run the test harness\n",
    "run_test_harness()"
   ]
  },
  {
   "cell_type": "code",
   "execution_count": 8,
   "metadata": {},
   "outputs": [
    {
     "name": "stderr",
     "output_type": "stream",
     "text": [
      "WARNING:absl:Compiled the loaded model, but the compiled metrics have yet to be built. `model.compile_metrics` will be empty until you train or evaluate the model.\n"
     ]
    },
    {
     "name": "stdout",
     "output_type": "stream",
     "text": [
      "\u001b[1m1/1\u001b[0m \u001b[32m━━━━━━━━━━━━━━━━━━━━\u001b[0m\u001b[37m\u001b[0m \u001b[1m0s\u001b[0m 129ms/step\n",
      "6\n"
     ]
    }
   ],
   "source": [
    "# make a prediction for a new image.\n",
    "from numpy import argmax\n",
    "from keras.models import load_model\n",
    "from PIL import Image\n",
    "import pandas as pd\n",
    "import io\n",
    "import numpy as np\n",
    " \n",
    "# load an image and predict the class\n",
    "def run_example():\n",
    "    test = pd.read_parquet(\"datasets/MNIST/test.parquet\")\n",
    "    image = Image.open(io.BytesIO(test[\"image\"].iloc[100]['bytes']))\n",
    "    img = np.array(image)\n",
    "    img = img.reshape(1, 28, 28, 1)\n",
    "\n",
    "    # load model\n",
    "    model = load_model('final_model.h5')\n",
    "    # predict the class\n",
    "    predict_value = model.predict(img)\n",
    "    digit = argmax(predict_value)\n",
    "    print(digit)\n",
    " \n",
    "# entry point, run the example\n",
    "run_example()"
   ]
  },
  {
   "cell_type": "code",
   "execution_count": 26,
   "metadata": {},
   "outputs": [
    {
     "data": {
      "text/plain": [
       "<matplotlib.image.AxesImage at 0x18cd1adb0>"
      ]
     },
     "execution_count": 26,
     "metadata": {},
     "output_type": "execute_result"
    },
    {
     "data": {
      "image/png": "[encoded data removed]",
      "text/plain": [
       "<Figure size 640x480 with 1 Axes>"
      ]
     },
     "metadata": {},
     "output_type": "display_data"
    }
   ],
   "source": [
    "from PIL import Image\n",
    "import matplotlib.pyplot as plt\n",
    "import pandas as pd\n",
    "import io\n",
    "\n",
    "%matplotlib inline\n",
    "test = pd.read_parquet(\"../datasets/MNIST/test.parquet\")\n",
    "image = Image.open(io.BytesIO(test[\"image\"].iloc[18]['bytes']))\n",
    "plt.imshow(image)"
   ]
  },
  {
   "cell_type": "code",
   "execution_count": 9,
   "metadata": {},
   "outputs": [
    {
     "name": "stderr",
     "output_type": "stream",
     "text": [
      "WARNING:absl:Compiled the loaded model, but the compiled metrics have yet to be built. `model.compile_metrics` will be empty until you train or evaluate the model.\n"
     ]
    },
    {
     "name": "stdout",
     "output_type": "stream",
     "text": [
      "\u001b[1m313/313\u001b[0m \u001b[32m━━━━━━━━━━━━━━━━━━━━\u001b[0m\u001b[37m\u001b[0m \u001b[1m2s\u001b[0m 6ms/step\n"
     ]
    }
   ],
   "source": [
    "from keras.models import load_model\n",
    "from sklearn.metrics import confusion_matrix\n",
    "\n",
    "import numpy as np\n",
    "\n",
    "model = load_model('../Out/initial_cnn_model_mnist.h5')\n",
    "X = np.load('../Out/testdata.npz')\n",
    "Y = np.load('../Out/testlabels.npz')\n",
    "testX = X['data']\n",
    "testY = Y['data']\n",
    "# reshape dataset to have a single channel\n",
    "testX = testX.reshape((testX.shape[0], 28, 28, 1))\n",
    "\n",
    "y_pred = model.predict(testX)\n",
    "y_pred_classes = np.argmax(y_pred, axis=1)\n",
    "\n",
    "conf_matrix = confusion_matrix(testY, y_pred_classes)"
   ]
  },
  {
   "cell_type": "code",
   "execution_count": 10,
   "metadata": {},
   "outputs": [
    {
     "data": {
      "image/png": "[encoded data removed]",
      "text/plain": [
       "<Figure size 1000x700 with 2 Axes>"
      ]
     },
     "metadata": {},
     "output_type": "display_data"
    }
   ],
   "source": [
    "import seaborn as sns\n",
    "import matplotlib.pyplot as plt\n",
    "\n",
    "# Plot the confusion matrix\n",
    "plt.figure(figsize=(10, 7))\n",
    "sns.heatmap(conf_matrix, annot=True, fmt='d', cmap='Blues')\n",
    "plt.xlabel('Predicted')\n",
    "plt.ylabel('True')\n",
    "plt.title('Confusion Matrix')\n",
    "plt.show()"
   ]
  },
  {
   "cell_type": "code",
   "execution_count": 11,
   "metadata": {},
   "outputs": [
    {
     "name": "stdout",
     "output_type": "stream",
     "text": [
      "[   1    8   15 ... 9993 9997 9998]\n",
      "0.5468999999999999\n"
     ]
    }
   ],
   "source": [
    "# Step 1: Create a boolean mask for mispredictions\n",
    "mispredictions_mask = testY != y_pred_classes\n",
    "\n",
    "# Step 2: Get the indices of mispredictions\n",
    "misprediction_indices = np.where(mispredictions_mask)[0]\n",
    "\n",
    "# Print the results\n",
    "print(misprediction_indices)\n",
    "print(1-len(misprediction_indices)/len(testY))"
   ]
  },
  {
   "cell_type": "code",
   "execution_count": 12,
   "metadata": {},
   "outputs": [
    {
     "data": {
      "text/plain": [
       "<matplotlib.image.AxesImage at 0x18623ee70>"
      ]
     },
     "execution_count": 12,
     "metadata": {},
     "output_type": "execute_result"
    },
    {
     "data": {
      "image/png": "[encoded data removed]",
      "text/plain": [
       "<Figure size 640x480 with 1 Axes>"
      ]
     },
     "metadata": {},
     "output_type": "display_data"
    }
   ],
   "source": [
    "plt.imshow(testX[2], cmap='gray')"
   ]
  },
  {
   "cell_type": "code",
   "execution_count": 123,
   "metadata": {},
   "outputs": [
    {
     "data": {
      "text/plain": [
       "<All keys matched successfully>"
      ]
     },
     "execution_count": 123,
     "metadata": {},
     "output_type": "execute_result"
    }
   ],
   "source": [
    "import torch\n",
    "import torch.nn as nn\n",
    "import torch.nn.functional as F\n",
    "import torch.nn.init as init\n",
    "\n",
    "def _weights_init(m):\n",
    "    classname = m.__class__.__name__\n",
    "    #print(classname)\n",
    "    if isinstance(m, nn.Linear) or isinstance(m, nn.Conv2d):\n",
    "        init.kaiming_normal_(m.weight)\n",
    "\n",
    "class LambdaLayer(nn.Module):\n",
    "    def __init__(self, lambd):\n",
    "        super(LambdaLayer, self).__init__()\n",
    "        self.lambd = lambd\n",
    "\n",
    "    def forward(self, x):\n",
    "        return self.lambd(x)\n",
    "\n",
    "class BasicBlock(nn.Module):\n",
    "    expansion = 1\n",
    "\n",
    "    def __init__(self, in_planes, planes, stride=1, option='A'):\n",
    "        super(BasicBlock, self).__init__()\n",
    "        self.conv1 = nn.Conv2d(in_planes, planes, kernel_size=3, stride=stride, padding=1, bias=False)\n",
    "        self.bn1 = nn.BatchNorm2d(planes)\n",
    "        self.conv2 = nn.Conv2d(planes, planes, kernel_size=3, stride=1, padding=1, bias=False)\n",
    "        self.bn2 = nn.BatchNorm2d(planes)\n",
    "\n",
    "        self.shortcut = nn.Sequential()\n",
    "        if stride != 1 or in_planes != planes:\n",
    "            if option == 'A':\n",
    "                \"\"\"\n",
    "                For CIFAR10 ResNet paper uses option A.\n",
    "                \"\"\"\n",
    "                self.shortcut = LambdaLayer(lambda x:\n",
    "                                            F.pad(x[:, :, ::2, ::2], (0, 0, 0, 0, planes//4, planes//4), \"constant\", 0))\n",
    "            elif option == 'B':\n",
    "                self.shortcut = nn.Sequential(\n",
    "                     nn.Conv2d(in_planes, self.expansion * planes, kernel_size=1, stride=stride, bias=False),\n",
    "                     nn.BatchNorm2d(self.expansion * planes)\n",
    "                )\n",
    "\n",
    "    def forward(self, x):\n",
    "        out = F.relu(self.bn1(self.conv1(x)))\n",
    "        out = self.bn2(self.conv2(out))\n",
    "        out += self.shortcut(x)\n",
    "        out = F.relu(out)\n",
    "        return out\n",
    "\n",
    "\n",
    "class ResNet(nn.Module):\n",
    "    def __init__(self, block, num_blocks, num_classes=10):\n",
    "        super(ResNet, self).__init__()\n",
    "        self.in_planes = 16\n",
    "\n",
    "        self.conv1 = nn.Conv2d(3, 16, kernel_size=3, stride=1, padding=1, bias=False)\n",
    "        self.bn1 = nn.BatchNorm2d(16)\n",
    "        self.layer1 = self._make_layer(block, 16, num_blocks[0], stride=1)\n",
    "        self.layer2 = self._make_layer(block, 32, num_blocks[1], stride=2)\n",
    "        self.layer3 = self._make_layer(block, 64, num_blocks[2], stride=2)\n",
    "        self.linear = nn.Linear(64, num_classes)\n",
    "\n",
    "        self.apply(_weights_init)\n",
    "\n",
    "    def _make_layer(self, block, planes, num_blocks, stride):\n",
    "        strides = [stride] + [1]*(num_blocks-1)\n",
    "        layers = []\n",
    "        for stride in strides:\n",
    "            layers.append(block(self.in_planes, planes, stride))\n",
    "            self.in_planes = planes * block.expansion\n",
    "\n",
    "        return nn.Sequential(*layers)\n",
    "\n",
    "    def forward(self, x):\n",
    "        out = F.relu(self.bn1(self.conv1(x)))\n",
    "        out = self.layer1(out)\n",
    "        out = self.layer2(out)\n",
    "        out = self.layer3(out)\n",
    "        out = F.avg_pool2d(out, out.size()[3])\n",
    "        out = out.view(out.size(0), -1)\n",
    "        out = self.linear(out)\n",
    "        return out\n",
    "\n",
    "def resnet56():\n",
    "    return ResNet(BasicBlock, [9, 9, 9])\n",
    "\n",
    "state_dict = torch.load('../models/resnet56.th', map_location=torch.device('cpu'))\n",
    "state_dict = {key.replace('module.', ''): value for key, value in state_dict['state_dict'].items()}\n",
    "model = resnet56()\n",
    "model.load_state_dict(state_dict)\n",
    "# print(model)"
   ]
  },
  {
   "cell_type": "code",
   "execution_count": 159,
   "metadata": {},
   "outputs": [],
   "source": [
    "# import numpy as np\n",
    "# import matplotlib.pyplot as plt\n",
    "\n",
    "# def unpickle():\n",
    "#     import pickle\n",
    "#     with open('../datasets/cifar10/test_batch', 'rb') as fo:\n",
    "#         dict = pickle.load(fo, encoding='bytes')\n",
    "#     return dict\n",
    "\n",
    "# cifar_test = unpickle()\n",
    "# print(cifar_test.keys())\n",
    "\n",
    "# images = cifar_test[b'data']\n",
    "# labels = cifar_test[b'labels']\n",
    "# print(labels)\n",
    "\n",
    "import torchvision\n",
    "import torchvision.transforms as transforms\n",
    "\n",
    "# Define transformations to normalize the data\n",
    "transform = transforms.Compose([\n",
    "    transforms.ToTensor(),\n",
    "    transforms.Grayscale(num_output_channels=3),\n",
    "    transforms.Normalize(mean=[0.485, 0.456, 0.406], std=[0.229, 0.224, 0.225])\n",
    "])\n",
    "\n",
    "# Load the testing dataset\n",
    "testset = torchvision.datasets.CIFAR10(root='../datasets/cifar10/', train=False, download=False, transform=transform)"
   ]
  },
  {
   "cell_type": "code",
   "execution_count": 160,
   "metadata": {},
   "outputs": [
    {
     "data": {
      "text/plain": [
       "torch.Size([3, 32, 32])"
      ]
     },
     "execution_count": 160,
     "metadata": {},
     "output_type": "execute_result"
    }
   ],
   "source": [
    "testset[0][0].shape"
   ]
  },
  {
   "cell_type": "code",
   "execution_count": 171,
   "metadata": {},
   "outputs": [],
   "source": [
    "predictions = []\n",
    "labels = []\n",
    "model.eval()\n",
    "\n",
    "for image in testset:\n",
    "    labels.append(image[1])\n",
    "    image = image[0].unsqueeze(0)\n",
    "\n",
    "    output = model(image)\n",
    "    predictions.append(torch.argmax(output))\n",
    "    if len(predictions) == 100:\n",
    "        break\n"
   ]
  },
  {
   "cell_type": "code",
   "execution_count": 172,
   "metadata": {},
   "outputs": [
    {
     "name": "stdout",
     "output_type": "stream",
     "text": [
      "0.0445\n",
      "[tensor(3), tensor(8), tensor(8), tensor(0), tensor(1), tensor(6), tensor(1), tensor(6), tensor(3), tensor(1), tensor(0), tensor(9), tensor(5), tensor(7), tensor(9), tensor(8), tensor(5), tensor(7), tensor(8), tensor(6), tensor(7), tensor(0), tensor(4), tensor(9), tensor(3), tensor(3), tensor(4), tensor(0), tensor(9), tensor(6), tensor(6), tensor(5), tensor(4), tensor(5), tensor(9), tensor(2), tensor(4), tensor(1), tensor(9), tensor(5), tensor(4), tensor(6), tensor(5), tensor(6), tensor(0), tensor(9), tensor(3), tensor(8), tensor(7), tensor(6), tensor(9), tensor(8), tensor(2), tensor(3), tensor(8), tensor(8), tensor(7), tensor(7), tensor(5), tensor(3), tensor(7), tensor(5), tensor(6), tensor(1), tensor(6), tensor(2), tensor(1), tensor(2), tensor(3), tensor(7), tensor(2), tensor(6), tensor(8), tensor(8), tensor(0), tensor(2), tensor(9), tensor(3), tensor(3), tensor(8), tensor(8), tensor(1), tensor(1), tensor(7), tensor(2), tensor(3), tensor(3), tensor(7), tensor(8), tensor(9), tensor(0), tensor(3), tensor(8), tensor(6), tensor(4), tensor(6), tensor(6), tensor(0), tensor(0), tensor(7)]\n",
      "[3, 8, 8, 0, 6, 6, 1, 6, 3, 1, 0, 9, 5, 7, 9, 8, 5, 7, 8, 6, 7, 0, 4, 9, 5, 2, 4, 0, 9, 6, 6, 5, 4, 5, 9, 2, 4, 1, 9, 5, 4, 6, 5, 6, 0, 9, 3, 9, 7, 6, 9, 8, 0, 3, 8, 8, 7, 7, 4, 6, 7, 3, 6, 3, 6, 2, 1, 2, 3, 7, 2, 6, 8, 8, 0, 2, 9, 3, 3, 8, 8, 1, 1, 7, 2, 5, 2, 7, 8, 9, 0, 3, 8, 6, 4, 6, 6, 0, 0, 7]\n"
     ]
    }
   ],
   "source": [
    "sum = 0\n",
    "\n",
    "for i in range(len(predictions)):\n",
    "    if predictions[i].item() == labels[i]:\n",
    "        sum += 1\n",
    "\n",
    "print(sum/2000)\n",
    "print(predictions)\n",
    "print(labels)"
   ]
  },
  {
   "cell_type": "code",
   "execution_count": null,
   "metadata": {},
   "outputs": [
    {
     "name": "stderr",
     "output_type": "stream",
     "text": [
      "WARNING:matplotlib.image:Clipping input data to the valid range for imshow with RGB data ([0..1] for floats or [0..255] for integers). Got range [-2.117904..2.64].\n"
     ]
    },
    {
     "name": "stdout",
     "output_type": "stream",
     "text": [
      "(32, 32, 1)\n"
     ]
    },
    {
     "data": {
      "image/png": "[encoded data removed]",
      "text/plain": [
       "<Figure size 640x480 with 1 Axes>"
      ]
     },
     "metadata": {},
     "output_type": "display_data"
    },
    {
     "data": {
      "text/plain": [
       "tensor([[ 1.6002,  3.8641, -3.4865,  3.9155, -0.5317, -2.3711, -4.5910, -1.8420,\n",
       "          5.9055, -2.5080]], grad_fn=<AddmmBackward0>)"
      ]
     },
     "execution_count": 240,
     "metadata": {},
     "output_type": "execute_result"
    }
   ],
   "source": [
    "X = np.load('../Out/testdata.npz')\n",
    "Y = np.load('../Out/testlabels.npz')\n",
    "testX = X['data']\n",
    "testY = Y['data']\n",
    "testX = testX.reshape((testX.shape[0], 32, 32, 1))\n",
    "\n",
    "transform = transforms.Compose([\n",
    "    transforms.Normalize(mean=[0.485, 0.456, 0.406], std=[0.229, 0.224, 0.225])\n",
    "])\n",
    "\n",
    "img = testX[0]\n",
    "print(img.shape)\n",
    "\n",
    "img = torch.tensor(img).permute(2, 0, 1).repeat(3, 1, 1)\n",
    "\n",
    "img = transform(img)\n",
    "\n",
    "plt.imshow(img.permute(1, 2, 0))\n",
    "plt.axis('off')  # Hide axes\n",
    "plt.show()\n",
    "\n",
    "img = img.unsqueeze(0)\n",
    "\n",
    "output = model(img)\n",
    "output\n"
   ]
  }
 ],
 "metadata": {
  "kernelspec": {
   "display_name": "venv",
   "language": "python",
   "name": "python3"
  },
  "language_info": {
   "codemirror_mode": {
    "name": "ipython",
    "version": 3
   },
   "file_extension": ".py",
   "mimetype": "text/x-python",
   "name": "python",
   "nbconvert_exporter": "python",
   "pygments_lexer": "ipython3",
   "version": "3.12.9"
  }
 },
 "nbformat": 4,
 "nbformat_minor": 2
}
