{
 "cells": [
  {
   "cell_type": "code",
   "execution_count": 46,
   "metadata": {},
   "outputs": [
    {
     "name": "stdout",
     "output_type": "stream",
     "text": [
      "Epoch 1/10\n"
     ]
    },
    {
     "name": "stderr",
     "output_type": "stream",
     "text": [
      "/home/default/percept/venv/lib/python3.12/site-packages/keras/src/layers/convolutional/base_conv.py:107: UserWarning: Do not pass an `input_shape`/`input_dim` argument to a layer. When using Sequential models, prefer using an `Input(shape)` object as the first layer in the model instead.\n",
      "  super().__init__(activity_regularizer=activity_regularizer, **kwargs)\n"
     ]
    },
    {
     "name": "stdout",
     "output_type": "stream",
     "text": [
      "1875/1875 - 10s - 5ms/step - accuracy: 0.8248 - loss: 0.4740\n",
      "Epoch 2/10\n",
      "1875/1875 - 12s - 6ms/step - accuracy: 0.8850 - loss: 0.3156\n",
      "Epoch 3/10\n",
      "1875/1875 - 9s - 5ms/step - accuracy: 0.8999 - loss: 0.2725\n",
      "Epoch 4/10\n",
      "1875/1875 - 12s - 6ms/step - accuracy: 0.9094 - loss: 0.2448\n",
      "Epoch 5/10\n",
      "1875/1875 - 12s - 6ms/step - accuracy: 0.9183 - loss: 0.2221\n",
      "Epoch 6/10\n",
      "1875/1875 - 9s - 5ms/step - accuracy: 0.9225 - loss: 0.2068\n",
      "Epoch 7/10\n",
      "1875/1875 - 12s - 6ms/step - accuracy: 0.9274 - loss: 0.1925\n",
      "Epoch 8/10\n",
      "1875/1875 - 12s - 6ms/step - accuracy: 0.9340 - loss: 0.1759\n",
      "Epoch 9/10\n",
      "1875/1875 - 10s - 5ms/step - accuracy: 0.9377 - loss: 0.1644\n",
      "Epoch 10/10\n",
      "1875/1875 - 12s - 6ms/step - accuracy: 0.9422 - loss: 0.1532\n"
     ]
    },
    {
     "name": "stderr",
     "output_type": "stream",
     "text": [
      "WARNING:absl:You are saving your model as an HDF5 file via `model.save()` or `keras.saving.save_model(model)`. This file format is considered legacy. We recommend using instead the native Keras format, e.g. `model.save('my_model.keras')` or `keras.saving.save_model(model, 'my_model.keras')`. \n",
      "WARNING:absl:Compiled the loaded model, but the compiled metrics have yet to be built. `model.compile_metrics` will be empty until you train or evaluate the model.\n"
     ]
    },
    {
     "name": "stdout",
     "output_type": "stream",
     "text": [
      "\u001b[1m313/313\u001b[0m \u001b[32m━━━━━━━━━━━━━━━━━━━━\u001b[0m\u001b[37m\u001b[0m \u001b[1m1s\u001b[0m 3ms/step - accuracy: 0.9061 - loss: 0.2818\n"
     ]
    }
   ],
   "source": [
    "# https://machinelearningmastery.com/how-to-develop-a-convolutional-neural-network-from-scratch-for-mnist-handwritten-digit-classification/\n",
    "\n",
    "# save the final model to file\n",
    "from tensorflow.keras.utils import to_categorical\n",
    "from tensorflow.keras.models import Sequential, load_model\n",
    "from tensorflow.keras.layers import Conv2D\n",
    "from tensorflow.keras.layers import MaxPooling2D\n",
    "from tensorflow.keras.layers import Dense\n",
    "from tensorflow.keras.layers import Flatten\n",
    "from tensorflow.keras.optimizers import SGD\n",
    "import pandas as pd\n",
    "import io\n",
    "from PIL import Image\n",
    "import numpy as np\n",
    "import torchvision\n",
    " \n",
    "\n",
    "# load train and test dataset\n",
    "def load_dataset():\n",
    "\t# load dataset\n",
    "\ttrainset = torchvision.datasets.FashionMNIST(root='../datasets/', train=True, download=True)\n",
    "\n",
    "\ttrain_images = []\n",
    "\ttrain_labels = []\n",
    "\n",
    "\tfor i in range(len(trainset)):\n",
    "\t\timage, label = trainset[i]\n",
    "\t\ttrain_images.append(np.array(image)/255)\n",
    "\t\ttrain_labels.append(label)\n",
    "\n",
    "\ttestset = torchvision.datasets.FashionMNIST(root='../datasets/', train=False, download=True)\n",
    "\n",
    "\ttest_images = []\n",
    "\ttest_labels = []\n",
    "\n",
    "\tfor i in range(len(testset)):\n",
    "\t\timage, label = testset[i]\n",
    "\t\ttest_images.append(np.array(image)/255)\n",
    "\t\ttest_labels.append(label)\n",
    "\n",
    "\ttrain_images = np.array(train_images)\n",
    "\ttrain_labels = np.array(train_labels)\n",
    "\ttest_images = np.array(test_images)\n",
    "\ttest_labels = np.array(test_labels)\n",
    "\n",
    "\t# reshape dataset to have a single channel\n",
    "\ttrainX = train_images.reshape((train_images.shape[0], 28, 28, 1))\n",
    "\ttestX = test_images.reshape((test_images.shape[0], 28, 28, 1))\n",
    "\t# one hot encode target values\n",
    "\ttrainY = to_categorical(train_labels)\n",
    "\ttestY = to_categorical(test_labels)\n",
    "\treturn trainX, trainY, testX, testY\n",
    " \n",
    "# define cnn model\n",
    "def define_model():\n",
    "\tmodel = Sequential()\n",
    "\tmodel.add(Conv2D(32, (3, 3), activation='relu', kernel_initializer='he_uniform', input_shape=(28, 28, 1)))\n",
    "\tmodel.add(MaxPooling2D((2, 2)))\n",
    "\tmodel.add(Conv2D(64, (3, 3), activation='relu', kernel_initializer='he_uniform'))\n",
    "\tmodel.add(Conv2D(64, (3, 3), activation='relu', kernel_initializer='he_uniform'))\n",
    "\tmodel.add(MaxPooling2D((2, 2)))\n",
    "\tmodel.add(Flatten())\n",
    "\tmodel.add(Dense(100, activation='relu', kernel_initializer='he_uniform'))\n",
    "\tmodel.add(Dense(10, activation='softmax'))\n",
    "\t# compile model\n",
    "\topt = SGD(learning_rate=0.01, momentum=0.9)\n",
    "\tmodel.compile(optimizer=opt, loss='categorical_crossentropy', metrics=['accuracy'])\n",
    "\treturn model\n",
    " \n",
    "# run the test harness for evaluating a model\n",
    "def run_test_harness():\n",
    "\t# load dataset\n",
    "\ttrainX, trainY, testX, testY = load_dataset()\n",
    "\t# define model\n",
    "\tmodel = define_model()\n",
    "\t# fit model\n",
    "\tmodel.fit(trainX, trainY, epochs=10, batch_size=32, verbose=2)\n",
    "\t# save model\n",
    "\tmodel.save('final_model.h5')\n",
    "\n",
    "\n",
    "def eval():\n",
    "\ttrainX, trainY, testX, testY = load_dataset()\n",
    "\tmodel = load_model('final_model.h5')\n",
    "\t# eval\n",
    "\tmodel.evaluate(testX, testY, verbose=1)\n",
    "\n",
    "# entry point, run the test harness\n",
    "run_test_harness()\n",
    "eval()"
   ]
  },
  {
   "cell_type": "code",
   "execution_count": 26,
   "metadata": {},
   "outputs": [
    {
     "data": {
      "text/plain": [
       "<matplotlib.image.AxesImage at 0x18cd1adb0>"
      ]
     },
     "execution_count": 26,
     "metadata": {},
     "output_type": "execute_result"
    },
    {
     "data": {
      "image/png": "[encoded data removed]",
      "text/plain": [
       "<Figure size 640x480 with 1 Axes>"
      ]
     },
     "metadata": {},
     "output_type": "display_data"
    }
   ],
   "source": [
    "from PIL import Image\n",
    "import matplotlib.pyplot as plt\n",
    "import pandas as pd\n",
    "import io\n",
    "\n",
    "%matplotlib inline\n",
    "test = pd.read_parquet(\"../datasets/MNIST/test.parquet\")\n",
    "image = Image.open(io.BytesIO(test[\"image\"].iloc[18]['bytes']))\n",
    "plt.imshow(image)"
   ]
  },
  {
   "cell_type": "code",
   "execution_count": 27,
   "metadata": {},
   "outputs": [
    {
     "name": "stderr",
     "output_type": "stream",
     "text": [
      "WARNING:absl:Compiled the loaded model, but the compiled metrics have yet to be built. `model.compile_metrics` will be empty until you train or evaluate the model.\n"
     ]
    },
    {
     "name": "stdout",
     "output_type": "stream",
     "text": [
      "\u001b[1m313/313\u001b[0m \u001b[32m━━━━━━━━━━━━━━━━━━━━\u001b[0m\u001b[37m\u001b[0m \u001b[1m1s\u001b[0m 3ms/step\n"
     ]
    }
   ],
   "source": [
    "from keras.models import load_model\n",
    "from sklearn.metrics import confusion_matrix\n",
    "\n",
    "import numpy as np\n",
    "\n",
    "model = load_model('../Out/final_model.h5')\n",
    "X = np.load('../Out/testdata.npz')\n",
    "Y = np.load('../Out/testlabels.npz')\n",
    "testX = X['data']\n",
    "testY = Y['data']\n",
    "# reshape dataset to have a single channel\n",
    "testX = testX.reshape((testX.shape[0], 28, 28, 1))\n",
    "\n",
    "y_pred = model.predict(testX)\n",
    "y_pred_classes = np.argmax(y_pred, axis=1)\n",
    "\n",
    "conf_matrix = confusion_matrix(testY, y_pred_classes)"
   ]
  },
  {
   "cell_type": "code",
   "execution_count": 28,
   "metadata": {},
   "outputs": [
    {
     "data": {
      "image/png": "[encoded data removed]",
      "text/plain": [
       "<Figure size 1000x700 with 2 Axes>"
      ]
     },
     "metadata": {},
     "output_type": "display_data"
    }
   ],
   "source": [
    "import seaborn as sns\n",
    "import matplotlib.pyplot as plt\n",
    "\n",
    "# Plot the confusion matrix\n",
    "plt.figure(figsize=(10, 7))\n",
    "sns.heatmap(conf_matrix, annot=True, fmt='d', cmap='Blues')\n",
    "plt.xlabel('Predicted')\n",
    "plt.ylabel('True')\n",
    "plt.title('Confusion Matrix')\n",
    "plt.show()"
   ]
  },
  {
   "cell_type": "code",
   "execution_count": 29,
   "metadata": {},
   "outputs": [
    {
     "name": "stdout",
     "output_type": "stream",
     "text": [
      "[   6    7    8 ... 9990 9991 9999]\n",
      "0.593\n"
     ]
    }
   ],
   "source": [
    "# Step 1: Create a boolean mask for mispredictions\n",
    "mispredictions_mask = testY != y_pred_classes\n",
    "\n",
    "# Step 2: Get the indices of mispredictions\n",
    "misprediction_indices = np.where(mispredictions_mask)[0]\n",
    "\n",
    "# Print the results\n",
    "print(misprediction_indices)\n",
    "print(1-len(misprediction_indices)/len(testY))"
   ]
  },
  {
   "cell_type": "code",
   "execution_count": 41,
   "metadata": {},
   "outputs": [
    {
     "name": "stdout",
     "output_type": "stream",
     "text": [
      "2\n",
      "2\n"
     ]
    },
    {
     "data": {
      "image/png": "[encoded data removed]",
      "text/plain": [
       "<Figure size 640x480 with 1 Axes>"
      ]
     },
     "metadata": {},
     "output_type": "display_data"
    }
   ],
   "source": [
    "plt.imshow(testX[77], cmap='gray')\n",
    "print(testY[77])\n",
    "print(y_pred_classes[77])"
   ]
  },
  {
   "cell_type": "code",
   "execution_count": 2,
   "metadata": {},
   "outputs": [
    {
     "data": {
      "text/plain": [
       "<All keys matched successfully>"
      ]
     },
     "execution_count": 2,
     "metadata": {},
     "output_type": "execute_result"
    }
   ],
   "source": [
    "import torch\n",
    "import torch.nn as nn\n",
    "import torch.nn.functional as F\n",
    "import torch.nn.init as init\n",
    "\n",
    "def _weights_init(m):\n",
    "    classname = m.__class__.__name__\n",
    "    #print(classname)\n",
    "    if isinstance(m, nn.Linear) or isinstance(m, nn.Conv2d):\n",
    "        init.kaiming_normal_(m.weight)\n",
    "\n",
    "class LambdaLayer(nn.Module):\n",
    "    def __init__(self, lambd):\n",
    "        super(LambdaLayer, self).__init__()\n",
    "        self.lambd = lambd\n",
    "\n",
    "    def forward(self, x):\n",
    "        return self.lambd(x)\n",
    "\n",
    "class BasicBlock(nn.Module):\n",
    "    expansion = 1\n",
    "\n",
    "    def __init__(self, in_planes, planes, stride=1, option='A'):\n",
    "        super(BasicBlock, self).__init__()\n",
    "        self.conv1 = nn.Conv2d(in_planes, planes, kernel_size=3, stride=stride, padding=1, bias=False)\n",
    "        self.bn1 = nn.BatchNorm2d(planes)\n",
    "        self.conv2 = nn.Conv2d(planes, planes, kernel_size=3, stride=1, padding=1, bias=False)\n",
    "        self.bn2 = nn.BatchNorm2d(planes)\n",
    "\n",
    "        self.shortcut = nn.Sequential()\n",
    "        if stride != 1 or in_planes != planes:\n",
    "            if option == 'A':\n",
    "                \"\"\"\n",
    "                For CIFAR10 ResNet paper uses option A.\n",
    "                \"\"\"\n",
    "                self.shortcut = LambdaLayer(lambda x:\n",
    "                                            F.pad(x[:, :, ::2, ::2], (0, 0, 0, 0, planes//4, planes//4), \"constant\", 0))\n",
    "            elif option == 'B':\n",
    "                self.shortcut = nn.Sequential(\n",
    "                     nn.Conv2d(in_planes, self.expansion * planes, kernel_size=1, stride=stride, bias=False),\n",
    "                     nn.BatchNorm2d(self.expansion * planes)\n",
    "                )\n",
    "\n",
    "    def forward(self, x):\n",
    "        out = F.relu(self.bn1(self.conv1(x)))\n",
    "        out = self.bn2(self.conv2(out))\n",
    "        out += self.shortcut(x)\n",
    "        out = F.relu(out)\n",
    "        return out\n",
    "\n",
    "\n",
    "class ResNet(nn.Module):\n",
    "    def __init__(self, block, num_blocks, num_classes=10):\n",
    "        super(ResNet, self).__init__()\n",
    "        self.in_planes = 16\n",
    "\n",
    "        self.conv1 = nn.Conv2d(3, 16, kernel_size=3, stride=1, padding=1, bias=False)\n",
    "        self.bn1 = nn.BatchNorm2d(16)\n",
    "        self.layer1 = self._make_layer(block, 16, num_blocks[0], stride=1)\n",
    "        self.layer2 = self._make_layer(block, 32, num_blocks[1], stride=2)\n",
    "        self.layer3 = self._make_layer(block, 64, num_blocks[2], stride=2)\n",
    "        self.linear = nn.Linear(64, num_classes)\n",
    "\n",
    "        self.apply(_weights_init)\n",
    "\n",
    "    def _make_layer(self, block, planes, num_blocks, stride):\n",
    "        strides = [stride] + [1]*(num_blocks-1)\n",
    "        layers = []\n",
    "        for stride in strides:\n",
    "            layers.append(block(self.in_planes, planes, stride))\n",
    "            self.in_planes = planes * block.expansion\n",
    "\n",
    "        return nn.Sequential(*layers)\n",
    "\n",
    "    def forward(self, x):\n",
    "        out = F.relu(self.bn1(self.conv1(x)))\n",
    "        out = self.layer1(out)\n",
    "        out = self.layer2(out)\n",
    "        out = self.layer3(out)\n",
    "        out = F.avg_pool2d(out, out.size()[3])\n",
    "        out = out.view(out.size(0), -1)\n",
    "        out = self.linear(out)\n",
    "        return out\n",
    "\n",
    "def resnet56():\n",
    "    return ResNet(BasicBlock, [9, 9, 9])\n",
    "\n",
    "state_dict = torch.load('../model_weights/resnet56.th', map_location=torch.device('cpu'))\n",
    "state_dict = {key.replace('module.', ''): value for key, value in state_dict['state_dict'].items()}\n",
    "model = resnet56()\n",
    "model.load_state_dict(state_dict)\n",
    "# print(model)"
   ]
  },
  {
   "cell_type": "code",
   "execution_count": 2,
   "metadata": {},
   "outputs": [],
   "source": [
    "# import numpy as np\n",
    "# import matplotlib.pyplot as plt\n",
    "\n",
    "# def unpickle():\n",
    "#     import pickle\n",
    "#     with open('../datasets/cifar10/test_batch', 'rb') as fo:\n",
    "#         dict = pickle.load(fo, encoding='bytes')\n",
    "#     return dict\n",
    "\n",
    "# cifar_test = unpickle()\n",
    "# print(cifar_test.keys())\n",
    "\n",
    "# images = cifar_test[b'data']\n",
    "# labels = cifar_test[b'labels']\n",
    "# print(labels)\n",
    "\n",
    "import torchvision\n",
    "import torchvision.transforms as transforms\n",
    "\n",
    "# Define transformations to normalize the data\n",
    "transform = transforms.Compose([\n",
    "    transforms.ToTensor(),\n",
    "    # transforms.Grayscale(num_output_channels=3),\n",
    "    transforms.Normalize(mean=[0.485, 0.456, 0.406], std=[0.229, 0.224, 0.225])\n",
    "])\n",
    "\n",
    "# Load the testing dataset\n",
    "testset = torchvision.datasets.CIFAR10(root='../datasets/cifar10/', train=False, download=False, transform=transform)"
   ]
  },
  {
   "cell_type": "code",
   "execution_count": 267,
   "metadata": {},
   "outputs": [],
   "source": [
    "predictions = []\n",
    "labels = []\n",
    "model.eval()\n",
    "\n",
    "for image in testset:\n",
    "    labels.append(image[1])\n",
    "    image = image[0].unsqueeze(0)\n",
    "\n",
    "    output = model(image)\n",
    "    predictions.append(torch.argmax(output))\n",
    "    if len(predictions) == 1000:\n",
    "        break\n"
   ]
  },
  {
   "cell_type": "code",
   "execution_count": 268,
   "metadata": {},
   "outputs": [
    {
     "name": "stdout",
     "output_type": "stream",
     "text": [
      "0.879\n"
     ]
    }
   ],
   "source": [
    "sum = 0\n",
    "\n",
    "for i in range(len(predictions)):\n",
    "    if predictions[i].item() == labels[i]:\n",
    "        sum += 1\n",
    "\n",
    "print(sum/1000)\n",
    "# print(predictions)\n",
    "# print(labels)"
   ]
  },
  {
   "cell_type": "code",
   "execution_count": 241,
   "metadata": {},
   "outputs": [
    {
     "name": "stderr",
     "output_type": "stream",
     "text": [
      "WARNING:matplotlib.image:Clipping input data to the valid range for imshow with RGB data ([0..1] for floats or [0..255] for integers). Got range [-2.117904..2.64].\n"
     ]
    },
    {
     "name": "stdout",
     "output_type": "stream",
     "text": [
      "(32, 32, 1)\n"
     ]
    },
    {
     "data": {
      "image/png": "[encoded data removed]",
      "text/plain": [
       "<Figure size 640x480 with 1 Axes>"
      ]
     },
     "metadata": {},
     "output_type": "display_data"
    },
    {
     "data": {
      "text/plain": [
       "tensor([[-6.5940, -3.8655, -2.1225, 22.9434, -0.6347,  5.5652, -5.2765, -0.5454,\n",
       "         -4.9037, -4.6705]], grad_fn=<AddmmBackward0>)"
      ]
     },
     "execution_count": 241,
     "metadata": {},
     "output_type": "execute_result"
    }
   ],
   "source": [
    "X = np.load('../Out/testdata.npz')\n",
    "Y = np.load('../Out/testlabels.npz')\n",
    "testX = X['data']\n",
    "testY = Y['data']\n",
    "testX = testX.reshape((testX.shape[0], 32, 32, 1))\n",
    "\n",
    "transform = transforms.Compose([\n",
    "    transforms.Normalize(mean=[0.485, 0.456, 0.406], std=[0.229, 0.224, 0.225])\n",
    "])\n",
    "\n",
    "img = testX[0]\n",
    "print(img.shape)\n",
    "\n",
    "img = torch.tensor(img).permute(2, 0, 1).repeat(3, 1, 1)\n",
    "\n",
    "img = transform(img)\n",
    "\n",
    "plt.imshow(img.permute(1, 2, 0))\n",
    "plt.axis('off')  # Hide axes\n",
    "plt.show()\n",
    "\n",
    "img = img.unsqueeze(0)\n",
    "\n",
    "output = model(img)\n",
    "output\n"
   ]
  },
  {
   "cell_type": "code",
   "execution_count": 302,
   "metadata": {},
   "outputs": [
    {
     "name": "stdout",
     "output_type": "stream",
     "text": [
      "torch.Size([1, 28, 28])\n"
     ]
    },
    {
     "data": {
      "image/png": "[encoded data removed]",
      "text/plain": [
       "<Figure size 640x480 with 1 Axes>"
      ]
     },
     "metadata": {},
     "output_type": "display_data"
    },
    {
     "name": "stdout",
     "output_type": "stream",
     "text": [
      "2\n",
      "2\n"
     ]
    }
   ],
   "source": [
    "import pickle\n",
    "\n",
    "class VGGNet(nn.Module):\n",
    "\tdef __init__(self, num_classes=62):\n",
    "\t\tsuper(VGGNet, self).__init__()\n",
    "\t\tself.features = nn.Sequential(\n",
    "\t\t\t# Block 1\n",
    "\t\t\tnn.Conv2d(1, 16, kernel_size=3, padding=1),\n",
    "\t\t\tnn.ReLU(inplace=True),\n",
    "\n",
    "\t\t\t# Block 2\n",
    "\t\t\tnn.Conv2d(16, 32, kernel_size=3, padding=1),\n",
    "\t\t\tnn.ReLU(inplace=True),\n",
    "\t\t\tnn.MaxPool2d(kernel_size=2, stride=2),\n",
    "\n",
    "\t\t\t# Block 3\n",
    "\t\t\tnn.Conv2d(32, 64, kernel_size=3, padding=1),\n",
    "\t\t\tnn.ReLU(inplace=True),\n",
    "\t\t\tnn.Conv2d(64, 64, kernel_size=3, padding=1),\n",
    "\t\t\tnn.ReLU(inplace=True),\n",
    "\n",
    "\t\t\t# Block 4\n",
    "\t\t\tnn.Conv2d(64, 128, kernel_size=3, stride=1, padding=1),\n",
    "\t\t\tnn.ReLU(inplace=True),\n",
    "\t\t\tnn.Conv2d(128, 128, kernel_size=3, stride=1, padding=1),\n",
    "\t\t\tnn.ReLU(inplace=True),\n",
    "\t\t\tnn.MaxPool2d(kernel_size=2, stride=2),\n",
    "\n",
    "\t\t\t# Block 5\n",
    "\t\t\tnn.Conv2d(128, 128, kernel_size=3, stride=1, padding=1),\n",
    "\t\t\tnn.ReLU(inplace=True),\n",
    "\t\t\tnn.Conv2d(128, 128, kernel_size=3, stride=1, padding=1),\n",
    "\t\t\tnn.ReLU(inplace=True),\n",
    "\t\t)\n",
    "\t\tself.avgpool = nn.AdaptiveAvgPool2d((3, 3))\n",
    "\t\tself.classifier = nn.Sequential(\n",
    "\t\t\tnn.Linear(128 * 3 * 3, 512),\n",
    "\t\t\tnn.BatchNorm1d(512),\n",
    "\t\t\tnn.ReLU(inplace=True),\n",
    "\t\t\tnn.Dropout(),\n",
    "\t\t\tnn.Linear(512, 512),\n",
    "\t\t\tnn.BatchNorm1d(512),\n",
    "\t\t\tnn.ReLU(inplace=True),\n",
    "\t\t\tnn.Dropout(),\n",
    "\t\t\tnn.Linear(512, num_classes),\n",
    "\t\t)\n",
    "\t\tself._initialize_weights()\n",
    "\n",
    "\tdef forward(self, x):\n",
    "\t\tx = self.features(x)\n",
    "\t\tx = self.avgpool(x)\n",
    "\t\tx = torch.flatten(x, 1)\n",
    "\t\tx = self.classifier(x)\n",
    "\t\treturn x\n",
    "\n",
    "\tdef _initialize_weights(self):\n",
    "\t\tfor m in self.modules():\n",
    "\t\t\tif isinstance(m, nn.Conv2d):\n",
    "\t\t\t\tinit.kaiming_normal_(m.weight, mode='fan_out', nonlinearity='relu')\n",
    "\t\t\t\tif m.bias is not None:\n",
    "\t\t\t\t\tinit.constant_(m.bias, 0)\n",
    "\t\t\telif isinstance(m, nn.BatchNorm2d):\n",
    "\t\t\t\tinit.constant_(m.weight, 1)\n",
    "\t\t\t\tinit.constant_(m.bias, 0)\n",
    "\t\t\telif isinstance(m, nn.Linear):\n",
    "\t\t\t\tinit.normal_(m.weight, 0, 0.01)\n",
    "\t\t\t\tinit.constant_(m.bias, 0)\n",
    "\n",
    "\tdef evaluate(self, testX: np.ndarray, testY: np.ndarray, verbose):\n",
    "\n",
    "\t\ttransform = transforms.Compose([\n",
    "\t\t\ttransforms.Normalize(mean=[0.1736], std=[0.3248])  # Standardize\n",
    "\t\t])\n",
    "\t\t\n",
    "\t\tcorrect = 0\n",
    "\t\tfor i in range(len(testX)):\n",
    "\t\t\timg = torch.tensor(testX[i]/255, dtype=torch.float32).unsqueeze(0)\n",
    "\t\t\timg = transform(img)\n",
    "\t\t\timg = img.unsqueeze(0)\n",
    "\n",
    "\t\t\t# print(img.shape)\n",
    "\t\t\t# logging.debug(img.shape)\n",
    "\t\t\twith torch.no_grad():\n",
    "\t\t\t\toutput = self.forward(img)\n",
    "\n",
    "\t\t\t# print(output)\n",
    "\n",
    "\t\t\tpredicted = torch.argmax(output).item()\n",
    "\n",
    "\t\t\t# logging.debug(output)\n",
    "\t\t\t# logging.debug(predicted)\n",
    "\t\t\t# logging.debug(testY[i])\n",
    "\n",
    "\t\t\t# print(predicted, testY[i])\n",
    "\t\t\tif testY[i] == predicted:\n",
    "\t\t\t\tcorrect += 1\n",
    "\n",
    "\t\taccuracy = correct / len(testX)\n",
    "\n",
    "\t\treturn None, accuracy\n",
    "\n",
    "# with open('../datasets/EMNIST/emnist_test.pkl', 'rb') as file:\n",
    "#     data = pickle.load(file)\n",
    "\n",
    "# test_images = []\n",
    "# test_labels = []\n",
    "\n",
    "# for i in range(1000):\n",
    "#     test_images.append(data['data'][i])\n",
    "#     test_labels.append(data['labels'][i])\n",
    "\n",
    "X = np.load('../Out/testdata.npz')\n",
    "Y = np.load('../Out/testlabels.npz')\n",
    "testX = X['data']\n",
    "testY = Y['data']\n",
    "testX = testX.reshape((testX.shape[0], 28, 28, 1))\n",
    "\n",
    "state_dict = torch.load('../model_weights/vggnet_tuned.pth', map_location=torch.device('cpu'))\n",
    "model = VGGNet()\n",
    "model.load_state_dict(state_dict)\n",
    "model.eval()\n",
    "\n",
    "# model.evaluate(test_images, test_labels, True)\n",
    "\n",
    "val = 10\n",
    "img = testX[val]\n",
    "\n",
    "transform = transforms.Compose([\n",
    "\ttransforms.Normalize(mean=[0.1736], std=[0.3248])  # Standardize\n",
    "])\n",
    "img = torch.tensor(img).permute(2, 0, 1)\n",
    "img = transform(img)\n",
    "\n",
    "print(img.shape)\n",
    "\n",
    "plt.imshow(img.permute(1, 2, 0), cmap='gray')\n",
    "plt.axis('off')  # Hide axes\n",
    "plt.show()\n",
    "\n",
    "img = img.unsqueeze(0)\n",
    "\n",
    "output = model(img)\n",
    "pred = torch.argmax(output).item()\n",
    "label_map = \"0123456789ABCDEFGHIJKLMNOPQRSTUVWXYZabcdefghijklmnopqrstuvwxyz\"\n",
    "print(label_map[pred])\n",
    "print(label_map[testY[val]])"
   ]
  },
  {
   "cell_type": "code",
   "execution_count": 4,
   "metadata": {},
   "outputs": [],
   "source": [
    "def conv3x3(in_planes, out_planes, stride=1):\n",
    "    \"\"\"3x3 convolution with padding\"\"\"\n",
    "    return nn.Conv2d(in_planes, out_planes, kernel_size=3, stride=stride, padding=1, bias=False)\n",
    "\n",
    "\n",
    "def conv1x1(in_planes, out_planes, stride=1):\n",
    "    \"\"\"1x1 convolution\"\"\"\n",
    "    return nn.Conv2d(in_planes, out_planes, kernel_size=1, stride=stride, bias=False)\n",
    "\n",
    "\n",
    "class BasicBlock(nn.Module):\n",
    "    expansion = 1\n",
    "\n",
    "    def __init__(self, inplanes, planes, stride=1, downsample=None):\n",
    "        super(BasicBlock, self).__init__()\n",
    "        self.conv1 = conv3x3(inplanes, planes, stride)\n",
    "        self.bn1 = nn.BatchNorm2d(planes)\n",
    "        self.relu = nn.ReLU(inplace=True)\n",
    "        self.conv2 = conv3x3(planes, planes)\n",
    "        self.bn2 = nn.BatchNorm2d(planes)\n",
    "        self.downsample = downsample\n",
    "        self.stride = stride\n",
    "\n",
    "    def forward(self, x):\n",
    "        identity = x\n",
    "\n",
    "        out = self.conv1(x)\n",
    "        out = self.bn1(out)\n",
    "        out = self.relu(out)\n",
    "\n",
    "        out = self.conv2(out)\n",
    "        out = self.bn2(out)\n",
    "\n",
    "        if self.downsample is not None:\n",
    "            identity = self.downsample(x)\n",
    "\n",
    "        out += identity\n",
    "        out = self.relu(out)\n",
    "\n",
    "        return out\n",
    "\n",
    "\n",
    "class CifarResNet(nn.Module):\n",
    "\n",
    "    def __init__(self, block, layers, num_classes=10):\n",
    "        super(CifarResNet, self).__init__()\n",
    "        self.inplanes = 16\n",
    "        self.conv1 = conv3x3(3, 16)\n",
    "        self.bn1 = nn.BatchNorm2d(16)\n",
    "        self.relu = nn.ReLU(inplace=True)\n",
    "\n",
    "        self.layer1 = self._make_layer(block, 16, layers[0])\n",
    "        self.layer2 = self._make_layer(block, 32, layers[1], stride=2)\n",
    "        self.layer3 = self._make_layer(block, 64, layers[2], stride=2)\n",
    "\n",
    "        self.avgpool = nn.AdaptiveAvgPool2d((1, 1))\n",
    "        self.fc = nn.Linear(64 * block.expansion, num_classes)\n",
    "\n",
    "        for m in self.modules():\n",
    "            if isinstance(m, nn.Conv2d):\n",
    "                nn.init.kaiming_normal_(m.weight, mode='fan_out', nonlinearity='relu')\n",
    "            elif isinstance(m, nn.BatchNorm2d):\n",
    "                nn.init.constant_(m.weight, 1)\n",
    "                nn.init.constant_(m.bias, 0)\n",
    "\n",
    "    def _make_layer(self, block, planes, blocks, stride=1):\n",
    "        downsample = None\n",
    "        if stride != 1 or self.inplanes != planes * block.expansion:\n",
    "            downsample = nn.Sequential(\n",
    "                conv1x1(self.inplanes, planes * block.expansion, stride),\n",
    "                nn.BatchNorm2d(planes * block.expansion),\n",
    "            )\n",
    "\n",
    "        layers = []\n",
    "        layers.append(block(self.inplanes, planes, stride, downsample))\n",
    "        self.inplanes = planes * block.expansion\n",
    "        for _ in range(1, blocks):\n",
    "            layers.append(block(self.inplanes, planes))\n",
    "\n",
    "        return nn.Sequential(*layers)\n",
    "\n",
    "    def forward(self, x):\n",
    "        x = self.conv1(x)\n",
    "        x = self.bn1(x)\n",
    "        x = self.relu(x)\n",
    "\n",
    "        x = self.layer1(x)\n",
    "        x = self.layer2(x)\n",
    "        x = self.layer3(x)\n",
    "\n",
    "        x = self.avgpool(x)\n",
    "        x = x.view(x.size(0), -1)\n",
    "        x = self.fc(x)\n",
    "\n",
    "        return x\n",
    "    \n",
    "model = CifarResNet(BasicBlock, [3,3,3], num_classes=10)"
   ]
  },
  {
   "cell_type": "code",
   "execution_count": 308,
   "metadata": {},
   "outputs": [
    {
     "name": "stdout",
     "output_type": "stream",
     "text": [
      "[3, 3, 3] resnet20\n",
      "[5, 5, 5] resnet32\n",
      "[7, 7, 7] resnet44\n",
      "[9, 9, 9] resnet56\n"
     ]
    }
   ],
   "source": [
    "for layers, model_name in zip([[3]*3, [5]*3, [7]*3, [9]*3], [\"resnet20\", \"resnet32\", \"resnet44\", \"resnet56\"]):\n",
    "    print(layers, model_name)"
   ]
  },
  {
   "cell_type": "code",
   "execution_count": 311,
   "metadata": {},
   "outputs": [
    {
     "data": {
      "text/plain": [
       "<All keys matched successfully>"
      ]
     },
     "execution_count": 311,
     "metadata": {},
     "output_type": "execute_result"
    }
   ],
   "source": [
    "state_dict = torch.load('../model_weights/cifar10_resnet20.pt', map_location=torch.device('cpu'))\n",
    "model.load_state_dict(state_dict)"
   ]
  },
  {
   "cell_type": "code",
   "execution_count": 317,
   "metadata": {},
   "outputs": [
    {
     "name": "stdout",
     "output_type": "stream",
     "text": [
      "0.9222\n"
     ]
    }
   ],
   "source": [
    "predictions = []\n",
    "labels = []\n",
    "model.eval()\n",
    "\n",
    "for image in testset:\n",
    "    labels.append(image[1])\n",
    "    image = image[0].unsqueeze(0)\n",
    "\n",
    "    output = model(image)\n",
    "    predictions.append(torch.argmax(output))\n",
    "    if len(predictions) == 10000:\n",
    "        break\n",
    "\n",
    "sum = 0\n",
    "\n",
    "for i in range(len(predictions)):\n",
    "    if predictions[i].item() == labels[i]:\n",
    "        sum += 1\n",
    "\n",
    "print(sum/10000)"
   ]
  },
  {
   "cell_type": "code",
   "execution_count": 5,
   "metadata": {},
   "outputs": [
    {
     "name": "stdout",
     "output_type": "stream",
     "text": [
      "Files already downloaded and verified\n"
     ]
    }
   ],
   "source": [
    "testset = torchvision.datasets.CIFAR100(root='../datasets/cifar100/', train=False, download=True, transform=transform)"
   ]
  },
  {
   "cell_type": "code",
   "execution_count": 6,
   "metadata": {},
   "outputs": [
    {
     "data": {
      "text/plain": [
       "<All keys matched successfully>"
      ]
     },
     "execution_count": 6,
     "metadata": {},
     "output_type": "execute_result"
    }
   ],
   "source": [
    "model = CifarResNet(BasicBlock, [3,3,3], num_classes=100)\n",
    "state_dict = torch.load('../model_weights/cifar100_resnet20.pt', map_location=torch.device('cpu'))\n",
    "model.load_state_dict(state_dict)"
   ]
  },
  {
   "cell_type": "code",
   "execution_count": 7,
   "metadata": {},
   "outputs": [
    {
     "name": "stdout",
     "output_type": "stream",
     "text": [
      "0.67\n"
     ]
    }
   ],
   "source": [
    "predictions = []\n",
    "labels = []\n",
    "model.eval()\n",
    "\n",
    "for image in testset:\n",
    "    labels.append(image[1])\n",
    "    image = image[0].unsqueeze(0)\n",
    "\n",
    "    output = model(image)\n",
    "    predictions.append(torch.argmax(output))\n",
    "    if len(predictions) == 10000:\n",
    "        break\n",
    "\n",
    "sum = 0\n",
    "\n",
    "for i in range(len(predictions)):\n",
    "    if predictions[i].item() == labels[i]:\n",
    "        sum += 1\n",
    "\n",
    "print(sum/10000)"
   ]
  },
  {
   "cell_type": "code",
   "execution_count": 49,
   "metadata": {},
   "outputs": [
    {
     "name": "stdout",
     "output_type": "stream",
     "text": [
      "Files already downloaded and verified\n"
     ]
    }
   ],
   "source": [
    "transform = transforms.Compose([\n",
    "\ttransforms.ToTensor()\n",
    "])\n",
    "testset = torchvision.datasets.CIFAR100(root='../datasets/', train=False, download=True, transform=transform)"
   ]
  },
  {
   "cell_type": "code",
   "execution_count": 25,
   "metadata": {},
   "outputs": [
    {
     "name": "stderr",
     "output_type": "stream",
     "text": [
      "WARNING:absl:Compiled the loaded model, but the compiled metrics have yet to be built. `model.compile_metrics` will be empty until you train or evaluate the model.\n"
     ]
    }
   ],
   "source": [
    "import tensorflow\n",
    "model = tensorflow.keras.models.load_model('../model_weights/cnn_model_mnist.h5')"
   ]
  }
 ],
 "metadata": {
  "kernelspec": {
   "display_name": "venv",
   "language": "python",
   "name": "python3"
  },
  "language_info": {
   "codemirror_mode": {
    "name": "ipython",
    "version": 3
   },
   "file_extension": ".py",
   "mimetype": "text/x-python",
   "name": "python",
   "nbconvert_exporter": "python",
   "pygments_lexer": "ipython3",
   "version": "3.12.3"
  }
 },
 "nbformat": 4,
 "nbformat_minor": 2
}
